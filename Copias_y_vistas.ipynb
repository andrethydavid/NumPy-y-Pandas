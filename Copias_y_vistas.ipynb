{
  "nbformat": 4,
  "nbformat_minor": 0,
  "metadata": {
    "colab": {
      "provenance": []
    },
    "kernelspec": {
      "name": "python3",
      "display_name": "Python 3"
    },
    "language_info": {
      "name": "python"
    }
  },
  "cells": [
    {
      "cell_type": "code",
      "execution_count": 1,
      "metadata": {
        "colab": {
          "base_uri": "https://localhost:8080/"
        },
        "id": "p5pci61rt6VP",
        "outputId": "56e264a8-3030-4c21-f9d1-949124eb14fe"
      },
      "outputs": [
        {
          "output_type": "stream",
          "name": "stdout",
          "text": [
            "Requirement already satisfied: numpy in /usr/local/lib/python3.10/dist-packages (1.26.4)\n"
          ]
        }
      ],
      "source": [
        "pip install numpy\n"
      ]
    },
    {
      "cell_type": "code",
      "source": [
        "import numpy as np"
      ],
      "metadata": {
        "id": "G2_Ecqwd81T6"
      },
      "execution_count": 2,
      "outputs": []
    },
    {
      "cell_type": "markdown",
      "source": [
        "## Broadcasting"
      ],
      "metadata": {
        "id": "r8v42I1289U7"
      }
    },
    {
      "cell_type": "code",
      "source": [
        "Prices = np.array([100,200,300])\n",
        "discount = np.array([0.9])\n",
        "discount_prices = Prices * discount\n",
        "print(discount_prices)"
      ],
      "metadata": {
        "colab": {
          "base_uri": "https://localhost:8080/"
        },
        "id": "-I2CWDqE83VZ",
        "outputId": "22f3c11b-c3c8-4afa-bee7-5ecd2bd98974"
      },
      "execution_count": 3,
      "outputs": [
        {
          "output_type": "stream",
          "name": "stdout",
          "text": [
            "[ 90. 180. 270.]\n"
          ]
        }
      ]
    },
    {
      "cell_type": "code",
      "source": [
        "# Crear un array de precios aleatorios entre 100 y 500\n",
        "prices = np.random.randint(100, 500, size=(3, 3))\n",
        "\n",
        "# Crear un array de descuentos\n",
        "discount = np.array([10, 20, 30])\n",
        "\n",
        "# Aplicar el descuento utilizando broadcasting\n",
        "discount_prices = prices - discount\n",
        "\n",
        "# Mostrar los resultados\n",
        "print(\"Precios originales:\")\n",
        "print(prices)\n",
        "print(\"\\nPrecios con descuento:\")\n",
        "print(discount_prices)\n"
      ],
      "metadata": {
        "colab": {
          "base_uri": "https://localhost:8080/"
        },
        "id": "nCIT7TTe9ZI0",
        "outputId": "3c7e7a5c-5f2c-4e6c-fc47-3046112fa761"
      },
      "execution_count": 5,
      "outputs": [
        {
          "output_type": "stream",
          "name": "stdout",
          "text": [
            "Precios originales:\n",
            "[[171 478 359]\n",
            " [313 193 120]\n",
            " [165 497 349]]\n",
            "\n",
            "Precios con descuento:\n",
            "[[161 458 329]\n",
            " [303 173  90]\n",
            " [155 477 319]]\n"
          ]
        }
      ]
    },
    {
      "cell_type": "code",
      "source": [
        "array = np.array([1, 2, 3, 4, 5])\n",
        "\n",
        "# Verificar si todos los elementos del array son mayores que 9\n",
        "print(np.all(array > 9))"
      ],
      "metadata": {
        "colab": {
          "base_uri": "https://localhost:8080/"
        },
        "id": "Oa5L50yXFNRl",
        "outputId": "b5c9ea89-74e1-4ccf-de95-73871686eeb2"
      },
      "execution_count": 7,
      "outputs": [
        {
          "output_type": "stream",
          "name": "stdout",
          "text": [
            "False\n"
          ]
        }
      ]
    },
    {
      "cell_type": "code",
      "source": [
        "array = np.array([1, 2, 3, 4, 5])\n",
        "\n",
        "# Verificar si todos los elementos del array son mayores que 9\n",
        "print(np.any(array > 4))"
      ],
      "metadata": {
        "colab": {
          "base_uri": "https://localhost:8080/"
        },
        "id": "o9ibU_GwF3IC",
        "outputId": "7a917c93-e4d9-4a79-ee1b-46f244bfc965"
      },
      "execution_count": 9,
      "outputs": [
        {
          "output_type": "stream",
          "name": "stdout",
          "text": [
            "True\n"
          ]
        }
      ]
    },
    {
      "cell_type": "code",
      "source": [
        "array_a = np.array([1, 2, 3])\n",
        "array_b = np.array([4, 5, 6])\n",
        "\n",
        "# Concatenar array_a y array_b\n",
        "concatenated_a = np.concatenate((array_a, array_b))\n",
        "concatenated_b = np.concatenate((array_a, array_b))\n",
        "\n",
        "# Imprimir los arrays concatenados\n",
        "print(concatenated_a)\n",
        "print(concatenated_b)"
      ],
      "metadata": {
        "colab": {
          "base_uri": "https://localhost:8080/"
        },
        "id": "Wyf6MzKHGE6z",
        "outputId": "29972133-8335-4ec2-bd64-fc77dac1caa9"
      },
      "execution_count": 15,
      "outputs": [
        {
          "output_type": "stream",
          "name": "stdout",
          "text": [
            "[1 2 3 4 5 6]\n",
            "[1 2 3 4 5 6]\n"
          ]
        }
      ]
    },
    {
      "cell_type": "code",
      "source": [
        "stacked_h = np.vstack((array_a, array_b)) # utiliza para apilar arrays verticalmente (es decir, fila sobre fila). El resultado es un array de mayor dimensión que incluye los arrays originales como filas\n",
        "\n",
        "# Imprimir el array apilado\n",
        "print(stacked_h)"
      ],
      "metadata": {
        "colab": {
          "base_uri": "https://localhost:8080/"
        },
        "id": "i2zrnIsmHmS8",
        "outputId": "b6de400d-e3b4-4faf-b4db-13bb3a376365"
      },
      "execution_count": 18,
      "outputs": [
        {
          "output_type": "stream",
          "name": "stdout",
          "text": [
            "[[1 2 3]\n",
            " [4 5 6]]\n"
          ]
        }
      ]
    },
    {
      "cell_type": "code",
      "source": [
        "from posixpath import split\n",
        "\n",
        "# Crear un array con valores del 1 al 9\n",
        "array_c = np.arange(1, 10)\n",
        "\n",
        "# Dividir el array en 3 partes iguales\n",
        "split_array = np.split(array_c, 3) # divide el array array_c en 3 subarrays de igual tamaño.\n",
        "\n",
        "# Imprimir el array original y los arrays divididos\n",
        "print(\"Array original:\")\n",
        "print(array_c)\n",
        "\n",
        "print(\"\\nArrays divididos:\")\n",
        "print(split_array)"
      ],
      "metadata": {
        "colab": {
          "base_uri": "https://localhost:8080/"
        },
        "id": "9bsjKsIdJQhv",
        "outputId": "bf73444e-21e6-494e-f99c-84bd15457f79"
      },
      "execution_count": 21,
      "outputs": [
        {
          "output_type": "stream",
          "name": "stdout",
          "text": [
            "Array original:\n",
            "[1 2 3 4 5 6 7 8 9]\n",
            "\n",
            "Arrays divididos:\n",
            "[array([1, 2, 3]), array([4, 5, 6]), array([7, 8, 9])]\n"
          ]
        }
      ]
    },
    {
      "cell_type": "code",
      "source": [],
      "metadata": {
        "id": "R4704D6QLFlE"
      },
      "execution_count": null,
      "outputs": []
    }
  ]
}